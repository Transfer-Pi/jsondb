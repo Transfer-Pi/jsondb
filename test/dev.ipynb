{
 "cells": [
  {
   "cell_type": "code",
   "execution_count": 289,
   "metadata": {},
   "outputs": [],
   "source": [
    "import os\n",
    "import sys\n",
    "\n",
    "from shutil import rmtree,move,copy\n",
    "from json import loads,dumps\n",
    "\n",
    "sys.path.insert(1, '/home/codekage/workspace/transfer-pi/logger')\n",
    "import logger"
   ]
  },
  {
   "cell_type": "code",
   "execution_count": 340,
   "metadata": {},
   "outputs": [],
   "source": [
    "class JSON(object):\n",
    "    \"\"\"\n",
    "    Helper Class For Mapping JSON vars to Objects\n",
    "    \"\"\"\n",
    "    def __init__(self,data=dict(),level=1):\n",
    "        self._level = level\n",
    "        for key in data:\n",
    "            if type(data[key]) == dict:\n",
    "                self.__dict__[key] = JSON(data[key],level=self._level+1)\n",
    "            else:\n",
    "                self.__dict__[key] = data[key]\n",
    "\n",
    "    def __repr__(self):\n",
    "        return (\n",
    "                \"JSON({\\n\"\n",
    "                +'\\n'.join([f\"{' '*4*self._level}{i} : {self.__dict__[i].__repr__()}\" for i in self.__dict__ if not i.startswith(\"_\")])\n",
    "                +\"\\n\"\n",
    "                +(' '*4*(self._level-1))+\"})\"\n",
    "            )\n",
    "    \n",
    "    def __str__(self):\n",
    "        return self.__repr__()\n",
    "    \n",
    "    def __getitem__(self,key):\n",
    "        return self.__dict__[key]\n",
    "    \n",
    "    def __iter__(self):\n",
    "        for key in self.__dict__:\n",
    "            if type(self.__dict__[key]) == JSON:\n",
    "                yield key, self.__dict__[key]()\n",
    "            else:\n",
    "                yield key, self.__dict__[key]\n",
    "    \n",
    "    def __setitem__(self,key:str,value):\n",
    "        self.__dict__[key] = value\n",
    "        \n",
    "    def __call__(self,):\n",
    "        return {i:j for i,j in  self.__iter__() if not i.startswith(\"_\")}\n",
    "        \n",
    "    def __delitem__(self,key):\n",
    "        del self.__dict__[key]\n",
    "        \n",
    "    def keys(self,):\n",
    "        return self.__dict__.keys()\n",
    "        \n",
    "        \n",
    "class Record(JSON):\n",
    "    \"\"\"\n",
    "    Record Object For Individual Records\n",
    "    \"\"\"\n",
    "    def __init__(self,path:str=None,**kwargs):\n",
    "        super().__init__(data=kwargs)\n",
    "        self._path = path\n",
    "        \n",
    "    def __repr__(self,):\n",
    "        return (\n",
    "                \"Record({\\n\"\n",
    "                +'\\n'.join([f\"{' '*4}{i} = {self.__dict__[i].__repr__()},\" for i in self.__dict__ if not i.startswith(\"_\")])\n",
    "                +\"\\n\"\n",
    "                +(' '*4*(self._level-1))+\"})\"\n",
    "            )\n",
    "    \n",
    "    def __str__(self):\n",
    "        return self.__repr__()\n",
    "        \n",
    "    def write(self,):\n",
    "        try:\n",
    "            return f\"Wrote {open(self._path,'w+').write(dumps(self()))} Chars Successfully\"\n",
    "        except:\n",
    "            return f\"Error Occured While Writing {self._path}\""
   ]
  },
  {
   "cell_type": "code",
   "execution_count": 258,
   "metadata": {},
   "outputs": [],
   "source": [
    "class Schema:\n",
    "    \n",
    "    def __init__(self,path:str):\n",
    "        pass\n",
    "\n",
    "    def createUser(self,)->dict:\n",
    "        pass\n",
    "\n",
    "    def updateUser(self,)->dict:\n",
    "        pass\n",
    "    \n",
    "    def removeUser(self,)->dict:\n",
    "        pass\n",
    "\n",
    "    def authUser(self,)->dict:\n",
    "        pass\n",
    "\n",
    "class Cursor(object):\n",
    "    \"\"\"\n",
    "    Cursor Class For JSONDB\n",
    "    \"\"\"\n",
    "    def __init__(self,path:str=\"./\",auth:dict={}):\n",
    "        self._path = path\n",
    "        self._auth = auth\n",
    "        self._db_path = os.path.join(self._path,\"db\")\n",
    "        \n",
    "        if not os.path.isdir(self._db_path):\n",
    "            os.mkdir(self._db_path)\n",
    "            \n",
    "        for db in os.listdir(self._db_path):\n",
    "            self.__dict__[db] = Database(db,self._db_path)\n",
    "            \n",
    "    def __repr__(self)->str:\n",
    "        return f\"Connection @ {self._path}\"\n",
    "            \n",
    "    def createDB(self,name:str):\n",
    "        path = os.path.join(self._path,\"db\",name)\n",
    "        if not os.path.isdir(path):\n",
    "            os.mkdir(path)\n",
    "            self.__dict__[name] = Database(name,self._db_path)\n",
    "            logger.success(f\"Database {name} Created Succesfully.\")\n",
    "        else:\n",
    "            logger.error(f\"Database {name} Already Exists.\")\n",
    "\n",
    "    def listDB(self,):\n",
    "        col,_ = os.get_terminal_size()\n",
    "        print (col*'-')\n",
    "        print (f\"| Database{' '*9}| Path{' '*(col-26)}|\")\n",
    "        print (col*'-')\n",
    "        for i in self.__dict__:\n",
    "            if not i.startswith(\"_\"):\n",
    "                f = f\"| {i}{(17-len(i))*' '}| {self.__dict__[i]}\"\n",
    "                print (f+(' '*(col-1-len(f)))+'|')\n",
    "        print (col*'-')\n",
    "\n",
    "    def deleteDB(self,name:str):\n",
    "        path = os.path.join(self._path,\"db\",name)\n",
    "        if not os.path.isdir(path):\n",
    "            logger.error(f\"Database {name} Does Not Exist.\")\n",
    "        else:\n",
    "            rmtree(path)\n",
    "            del self.__dict__[name]\n",
    "            logger.success(f\"Database {name} Deleted Succesfully.\")"
   ]
  },
  {
   "cell_type": "code",
   "execution_count": 259,
   "metadata": {},
   "outputs": [],
   "source": [
    "db = connect(\"./data/\")"
   ]
  },
  {
   "cell_type": "code",
   "execution_count": 260,
   "metadata": {},
   "outputs": [
    {
     "name": "stdout",
     "output_type": "stream",
     "text": [
      "\u001b[31m [ERR]\u001b[0m Database USERS Already Exists.                                                         [ 2020-09-14 13:21:50 ]\n",
      "\u001b[31m [ERR]\u001b[0m Database SESSIONS Already Exists.                                                      [ 2020-09-14 13:21:50 ]\n"
     ]
    }
   ],
   "source": [
    "db.createDB(\"USERS\")\n",
    "db.createDB(\"SESSIONS\")"
   ]
  },
  {
   "cell_type": "code",
   "execution_count": 261,
   "metadata": {},
   "outputs": [
    {
     "name": "stdout",
     "output_type": "stream",
     "text": [
      "------------------------------------------------------------------------------------------------------------------------\n",
      "| Database         | Path                                                                                              |\n",
      "------------------------------------------------------------------------------------------------------------------------\n",
      "| SESSIONS         | Database @ /home/codekage/workspace/transfer-pi/jsondb/test/data/db/SESSIONS                      |\n",
      "| USERS            | Database @ /home/codekage/workspace/transfer-pi/jsondb/test/data/db/USERS                         |\n",
      "------------------------------------------------------------------------------------------------------------------------\n"
     ]
    }
   ],
   "source": [
    "db.listDB()"
   ]
  },
  {
   "cell_type": "code",
   "execution_count": 308,
   "metadata": {},
   "outputs": [],
   "source": [
    "query_keywords = ['create','delete','update']      \n",
    "class Database(object):\n",
    "    def __init__(self,name,path):\n",
    "        self._name = name\n",
    "        self._path = os.path.join(path,name)\n",
    "        \n",
    "        for table in os.listdir(self._path):\n",
    "            if table not in query_keywords:\n",
    "                self.__dict__[table] = Table(table,os.path.join(self._path,table))\n",
    "        \n",
    "    def __repr__(self):\n",
    "        return f\"Database @ {self._path}\"\n",
    "    \n",
    "    def listTables(self,):\n",
    "        col,_ = os.get_terminal_size()\n",
    "        print (col*'-')\n",
    "        print (f\"| Table{' '*12}| Path{' '*(col-26)}|\")\n",
    "        print (col*'-')\n",
    "        for i in self.__dict__:\n",
    "            if not i.startswith(\"_\"):\n",
    "                f = f\"| {i}{(17-len(i))*' '}| {self.__dict__[i]}\"\n",
    "                print (f+(' '*(col-1-len(f)))+'|')\n",
    "        print (col*'-')\n",
    "    \n",
    "    def createTable(self,name,primary_key):\n",
    "        path = os.path.join(self._path,name)\n",
    "        if os.path.isdir(path):\n",
    "            logger.warning(f\"Table {name} Already Exists.\")\n",
    "        else:\n",
    "            os.mkdir(path)\n",
    "            open(os.path.join(path,\"primary_key\"),\"w+\").write(primary_key)\n",
    "            self.__dict__[name] = Table(name,path)\n",
    "            logger.success(f\"Table {name} Created Succesfully.\")\n",
    "    \n",
    "    def deleteTable(self,name:str):\n",
    "        path = os.path.join(self._path,name)\n",
    "        if not os.path.isdir(path):\n",
    "            logger.error(f\"Table {name} Does Not Exist.\")\n",
    "        else:\n",
    "            rmtree(path)\n",
    "            del self.__dict__[name]\n",
    "            logger.success(f\"Table {name} Deleted Succesfully.\")\n",
    "    \n",
    "    def renameTable(self,old:str,new:str):\n",
    "        path = os.path.join(self._path,old)\n",
    "        if not os.path.isdir(path):\n",
    "            logger.error(f\"Table {old} Does Not Exist.\")\n",
    "        else:\n",
    "            path_ = os.path.join(self._path,new)\n",
    "            move(path,path_)\n",
    "            del self.__dict__[old]\n",
    "            self.__dict__[new] = Table(new,path_)\n",
    "            logger.success(f\"Table Renamed Succesfully {old} -> {new}.\")"
   ]
  },
  {
   "cell_type": "code",
   "execution_count": 326,
   "metadata": {},
   "outputs": [
    {
     "name": "stdout",
     "output_type": "stream",
     "text": [
      "------------------------------------------------------------------------------------------------------------------------\n",
      "| Database         | Path                                                                                              |\n",
      "------------------------------------------------------------------------------------------------------------------------\n",
      "| SESSIONS         | Database @ /home/codekage/workspace/transfer-pi/jsondb/test/data/db/SESSIONS                      |\n",
      "| USERS            | Database @ /home/codekage/workspace/transfer-pi/jsondb/test/data/db/USERS                         |\n",
      "------------------------------------------------------------------------------------------------------------------------\n"
     ]
    }
   ],
   "source": [
    "db = connect(\"./data/\")\n",
    "db.listDB()"
   ]
  },
  {
   "cell_type": "code",
   "execution_count": 327,
   "metadata": {},
   "outputs": [
    {
     "name": "stdout",
     "output_type": "stream",
     "text": [
      "\u001b[32m [SUC]\u001b[0m Table users Created Succesfully.                                                       [ 2020-09-14 13:32:02 ]\n"
     ]
    }
   ],
   "source": [
    "users = db.USERS\n",
    "users.createTable(\"users\",\"email\")"
   ]
  },
  {
   "cell_type": "code",
   "execution_count": 328,
   "metadata": {},
   "outputs": [
    {
     "name": "stdout",
     "output_type": "stream",
     "text": [
      "\u001b[32m [SUC]\u001b[0m Table sessions Created Succesfully.                                                    [ 2020-09-14 13:32:03 ]\n"
     ]
    }
   ],
   "source": [
    "users.createTable(\"sessions\",'_id')"
   ]
  },
  {
   "cell_type": "code",
   "execution_count": 329,
   "metadata": {},
   "outputs": [
    {
     "name": "stdout",
     "output_type": "stream",
     "text": [
      "------------------------------------------------------------------------------------------------------------------------\n",
      "| Table            | Path                                                                                              |\n",
      "------------------------------------------------------------------------------------------------------------------------\n",
      "| users            | Table @ /home/codekage/workspace/transfer-pi/jsondb/test/data/db/USERS/users                      |\n",
      "| sessions         | Table @ /home/codekage/workspace/transfer-pi/jsondb/test/data/db/USERS/sessions                   |\n",
      "------------------------------------------------------------------------------------------------------------------------\n"
     ]
    }
   ],
   "source": [
    "users.listTables()"
   ]
  },
  {
   "cell_type": "code",
   "execution_count": 330,
   "metadata": {},
   "outputs": [
    {
     "name": "stdout",
     "output_type": "stream",
     "text": [
      "\u001b[32m [SUC]\u001b[0m Table Renamed Succesfully sessions -> session.                                         [ 2020-09-14 13:32:16 ]\n"
     ]
    }
   ],
   "source": [
    "users.renameTable(\"sessions\",\"session\")"
   ]
  },
  {
   "cell_type": "code",
   "execution_count": 333,
   "metadata": {},
   "outputs": [
    {
     "name": "stdout",
     "output_type": "stream",
     "text": [
      "------------------------------------------------------------------------------------------------------------------------\n",
      "| Table            | Path                                                                                              |\n",
      "------------------------------------------------------------------------------------------------------------------------\n",
      "| users            | Table @ /home/codekage/workspace/transfer-pi/jsondb/test/data/db/USERS/users                      |\n",
      "| session          | Table @ /home/codekage/workspace/transfer-pi/jsondb/test/data/db/USERS/session                    |\n",
      "------------------------------------------------------------------------------------------------------------------------\n"
     ]
    }
   ],
   "source": [
    "users.listTables()"
   ]
  },
  {
   "cell_type": "code",
   "execution_count": 341,
   "metadata": {},
   "outputs": [],
   "source": [
    "class Table(object):\n",
    "    \"\"\"\n",
    "    Table Wrapper For JSONDB\n",
    "    \"\"\"\n",
    "    def __init__(self,name,path):\n",
    "        self._name = name\n",
    "        self._path = path\n",
    "        self._primary_key = open(os.path.join(path,\"primary_key\"),\"r\").read()\n",
    "    \n",
    "    def __repr__(self):\n",
    "        return f\"Table @ {self._path}\"\n",
    "    \n",
    "    def __getitem__(self,key):\n",
    "        path = os.path.join(self._path,f\"{key}.json\")\n",
    "        if os.path.isfile(path):\n",
    "            return Record(path)\n",
    "        return JSON()\n",
    "    \n",
    "    def insertOne(self,record):\n",
    "        assert self._primary_key in record.keys(),f\"Record Does Not Contain Primary Key, In this case \\\"{self._primary_key}\\\"\"\n",
    "        assert isinstance(record,Record), \"Record should be of object of jsondb.Record\"\n",
    "        path = os.path.join(self._path,f\"{record[self._primary_key]}.json\")\n",
    "        if os.path.isfile(path):\n",
    "            return {\n",
    "                \"status\":False,\n",
    "                \"message\":f\"{self._primary_key} Already Exists.\"\n",
    "            }\n",
    "        if open(path,'w+').write(dumps(record())):\n",
    "            return {\n",
    "                \"status\":True,\n",
    "                \"message\":\"Record Inserted Succesfully.\"\n",
    "            }\n",
    "        else:\n",
    "            return {\n",
    "                \"status\":False,\n",
    "                \"message\":\"Error Inserting Record..\"\n",
    "            }\n",
    "    \n",
    "    def deleteOne(self,key:str):\n",
    "        pass\n",
    "    \n",
    "    def updateOne(self,key:str,update:dict):\n",
    "        pass\n",
    "    \n",
    "    def fetchOne(self,key:str)->JSON:\n",
    "        path = os.path.join(self._path,f\"{key}.json\")\n",
    "        try:\n",
    "            return Record(path=path,**loads(open(path,\"r\").read()))\n",
    "        except:\n",
    "            return Record()"
   ]
  },
  {
   "cell_type": "code",
   "execution_count": 342,
   "metadata": {},
   "outputs": [],
   "source": [
    "def connect(path=\"./\",auth={}):\n",
    "    path = os.path.abspath(path)\n",
    "    if not os.path.isdir(path):\n",
    "        os.mkdir(path=path)\n",
    "        open(os.path.join(path,\"config.json\"),\"w+\")\n",
    "    return Cursor(path=path,auth=auth)"
   ]
  },
  {
   "cell_type": "code",
   "execution_count": 343,
   "metadata": {},
   "outputs": [
    {
     "name": "stdout",
     "output_type": "stream",
     "text": [
      "------------------------------------------------------------------------------------------------------------------------\n",
      "| Database         | Path                                                                                              |\n",
      "------------------------------------------------------------------------------------------------------------------------\n",
      "| SESSIONS         | Database @ /home/codekage/workspace/transfer-pi/jsondb/test/data/db/SESSIONS                      |\n",
      "| USERS            | Database @ /home/codekage/workspace/transfer-pi/jsondb/test/data/db/USERS                         |\n",
      "------------------------------------------------------------------------------------------------------------------------\n"
     ]
    }
   ],
   "source": [
    "db = connect(\"./data/\")\n",
    "db.listDB()"
   ]
  },
  {
   "cell_type": "code",
   "execution_count": 344,
   "metadata": {},
   "outputs": [],
   "source": [
    "users = db.USERS"
   ]
  },
  {
   "cell_type": "code",
   "execution_count": 345,
   "metadata": {},
   "outputs": [
    {
     "name": "stdout",
     "output_type": "stream",
     "text": [
      "------------------------------------------------------------------------------------------------------------------------\n",
      "| Table            | Path                                                                                              |\n",
      "------------------------------------------------------------------------------------------------------------------------\n",
      "| session          | Table @ /home/codekage/workspace/transfer-pi/jsondb/test/data/db/USERS/session                    |\n",
      "| users            | Table @ /home/codekage/workspace/transfer-pi/jsondb/test/data/db/USERS/users                      |\n",
      "------------------------------------------------------------------------------------------------------------------------\n"
     ]
    }
   ],
   "source": [
    "users.listTables()"
   ]
  },
  {
   "cell_type": "code",
   "execution_count": 349,
   "metadata": {},
   "outputs": [
    {
     "data": {
      "text/plain": [
       "{'status': True, 'message': 'Record Inserted Succesfully.'}"
      ]
     },
     "execution_count": 349,
     "metadata": {},
     "output_type": "execute_result"
    }
   ],
   "source": [
    "users.users.insertOne(Record(\n",
    "    name = \"Jeep\",\n",
    "    email = \"jeep@car.com\"\n",
    "))"
   ]
  },
  {
   "cell_type": "code",
   "execution_count": 351,
   "metadata": {},
   "outputs": [],
   "source": [
    "rec = users.users.fetchOne(\"jeep@car.com\")"
   ]
  },
  {
   "cell_type": "code",
   "execution_count": 353,
   "metadata": {},
   "outputs": [],
   "source": [
    "rec.account = JSON({\n",
    "    \"private\":\"dfjspofisdjfosf\"\n",
    "},level=2)"
   ]
  },
  {
   "cell_type": "code",
   "execution_count": 356,
   "metadata": {},
   "outputs": [
    {
     "data": {
      "text/plain": [
       "'Wrote 84 Chars Successfully'"
      ]
     },
     "execution_count": 356,
     "metadata": {},
     "output_type": "execute_result"
    }
   ],
   "source": [
    "rec.write()"
   ]
  },
  {
   "cell_type": "code",
   "execution_count": null,
   "metadata": {},
   "outputs": [],
   "source": []
  }
 ],
 "metadata": {
  "kernelspec": {
   "display_name": "Python 3",
   "language": "python",
   "name": "python3"
  },
  "language_info": {
   "codemirror_mode": {
    "name": "ipython",
    "version": 3
   },
   "file_extension": ".py",
   "mimetype": "text/x-python",
   "name": "python",
   "nbconvert_exporter": "python",
   "pygments_lexer": "ipython3",
   "version": "3.8.2"
  }
 },
 "nbformat": 4,
 "nbformat_minor": 4
}
