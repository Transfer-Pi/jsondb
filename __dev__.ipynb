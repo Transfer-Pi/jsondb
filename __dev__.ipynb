{
 "cells": [
  {
   "cell_type": "code",
   "execution_count": 209,
   "metadata": {},
   "outputs": [],
   "source": [
    "import os\n",
    "import sys\n",
    "import hashlib\n",
    "\n",
    "from shutil import rmtree,move,copy\n",
    "from json import loads,dumps\n",
    "\n",
    "import copy\n",
    "import logger"
   ]
  },
  {
   "cell_type": "code",
   "execution_count": 210,
   "metadata": {},
   "outputs": [],
   "source": [
    "class JSON(object):\n",
    "    \"\"\"\n",
    "    Helper Class For Mapping JSON vars to Objects\n",
    "    \"\"\"\n",
    "    def __init__(self,*args,**data):\n",
    "        for key in data:\n",
    "            if type(data[key]) == dict:\n",
    "                self.__dict__[key] = JSON(**data[key])\n",
    "            else:\n",
    "                self.__dict__[key] = data[key]\n",
    "\n",
    "    def __print__(self,level:int):\n",
    "        indent = f'{((level+1)*4)*\" \"}'\n",
    "        return \"\\n\".join([\n",
    "            f'{indent}{key}:{value.__repr__(level+1)}' \n",
    "            if   isinstance(value,JSON) \n",
    "            else f'{indent}{key}:{value.__repr__()}'\n",
    "            \n",
    "            for  key,value in self.__dict__.items()\n",
    "        ])\n",
    "    \n",
    "    def __repr__(self,level=0):\n",
    "        ret = ('JSON({\\n' +\n",
    "            self.__print__(level) +\n",
    "        f'\\n{(level*4)*\" \"}'+ '})')\n",
    "        return ret\n",
    "    \n",
    "    def __str__(self):\n",
    "        return self.__repr__()\n",
    "    \n",
    "    def __getitem__(self,key):\n",
    "        return self.__dict__[key]\n",
    "    \n",
    "    def __iter__(self):\n",
    "        for key in self.__dict__:\n",
    "            if type(self.__dict__[key]) == JSON:\n",
    "                yield key, self.__dict__[key]()\n",
    "            else:\n",
    "                yield key, self.__dict__[key]\n",
    "    \n",
    "    def __setitem__(self,key:str,value):\n",
    "        self.__dict__[key] = value\n",
    "        \n",
    "    def __call__(self,):\n",
    "        return {i:j for i,j in  self.__iter__() if not i.startswith(\"_\")}\n",
    "        \n",
    "    def __delitem__(self,key):\n",
    "        del self.__dict__[key]\n",
    "                \n",
    "    def __len__(self,)->int:\n",
    "        return len(self())\n",
    "\n",
    "    def __bool__(self,):\n",
    "        return len(self) > 0\n",
    "\n",
    "    def keys(self,):\n",
    "        return self.__dict__.keys()\n"
   ]
  },
  {
   "cell_type": "code",
   "execution_count": 211,
   "metadata": {},
   "outputs": [],
   "source": [
    "a = JSON(\n",
    "    name=\"viraj\",\n",
    "    inner={\n",
    "        \"key\":\"value\",\n",
    "        \"inner_2\":{\n",
    "            \"key\":\"value\"\n",
    "        }\n",
    "    }\n",
    ")"
   ]
  },
  {
   "cell_type": "code",
   "execution_count": 212,
   "metadata": {},
   "outputs": [
    {
     "data": {
      "text/plain": [
       "JSON({\n",
       "    name:'viraj'\n",
       "    inner:JSON({\n",
       "        key:'value'\n",
       "        inner_2:JSON({\n",
       "            key:'value'\n",
       "        })\n",
       "    })\n",
       "})"
      ]
     },
     "execution_count": 212,
     "metadata": {},
     "output_type": "execute_result"
    }
   ],
   "source": [
    "a"
   ]
  },
  {
   "cell_type": "code",
   "execution_count": 213,
   "metadata": {},
   "outputs": [],
   "source": [
    "class Record(JSON):\n",
    "    def __init__(self,path:str=None,**kwargs):\n",
    "        super().__init__(**kwargs)\n",
    "        self._path = path\n",
    "\n",
    "    def __str__(self):\n",
    "        return self.__repr__()\n",
    "        \n",
    "    def write(self,):\n",
    "        try:\n",
    "            return f\"Wrote {open(self._path,'w+').write(dumps(self()))} Chars Successfully\"\n",
    "        except:\n",
    "            return f\"Error Occured While Writing {self._path}\"\n",
    "\n",
    "    def destroy(self,):\n",
    "        try:\n",
    "            os.remove(self._path)\n",
    "            return 1\n",
    "        except:\n",
    "            return 0"
   ]
  },
  {
   "cell_type": "code",
   "execution_count": 214,
   "metadata": {},
   "outputs": [],
   "source": [
    "rec = Record(\n",
    "    path=\"./test/rec.json\",\n",
    "    username=\"vptl185\"\n",
    ")"
   ]
  },
  {
   "cell_type": "code",
   "execution_count": 215,
   "metadata": {},
   "outputs": [
    {
     "data": {
      "text/plain": [
       "JSON({\n",
       "    username:'vptl185'\n",
       "    _path:'./test/rec.json'\n",
       "})"
      ]
     },
     "execution_count": 215,
     "metadata": {},
     "output_type": "execute_result"
    }
   ],
   "source": [
    "rec"
   ]
  },
  {
   "cell_type": "code",
   "execution_count": 216,
   "metadata": {},
   "outputs": [
    {
     "data": {
      "text/plain": [
       "'Wrote 23 Chars Successfully'"
      ]
     },
     "execution_count": 216,
     "metadata": {},
     "output_type": "execute_result"
    }
   ],
   "source": [
    "rec.write()"
   ]
  },
  {
   "cell_type": "code",
   "execution_count": 241,
   "metadata": {},
   "outputs": [],
   "source": [
    "class Table(object):\n",
    "    def __init__(self,name,path):\n",
    "        self._name = name\n",
    "        self._path = path\n",
    "        self._primary_key = open(os.path.join(path,\"primary_key\"),\"r\").read()\n",
    "    \n",
    "    def __repr__(self):\n",
    "        return f\"Table @ {self._path}\"\n",
    "    \n",
    "    def __getitem__(self,key)->Record:\n",
    "        path = os.path.join(self._path,f\"{key}.json\")\n",
    "        if os.path.isfile(path):\n",
    "            return Record(path)\n",
    "        return JSON()\n",
    "    \n",
    "    def insertOne(self,record)->dict:\n",
    "        assert self._primary_key in record.keys(),f\"Record Does Not Contain Primary Key, In this case \\\"{self._primary_key}\\\"\"\n",
    "        assert isinstance(record,Record), \"Record should be of object of jsondb.Record\"\n",
    "        path = os.path.join(self._path,f\"{record[self._primary_key]}.json\")\n",
    "        if os.path.isfile(path):\n",
    "            return {\n",
    "                \"status\":False,\n",
    "                \"message\":f\"{self._primary_key} Already Exists.\"\n",
    "            }\n",
    "        if open(path,'w+').write(dumps(record())):\n",
    "            return {\n",
    "                \"status\":True,\n",
    "                \"message\":\"Record Inserted Succesfully.\"\n",
    "            }\n",
    "        else:\n",
    "            return {\n",
    "                \"status\":False,\n",
    "                \"message\":\"Error Inserting Record..\"\n",
    "            }\n",
    "\n",
    "    \n",
    "\n",
    "    def deleteOne(self,key:str)->int:\n",
    "        path = os.path.join(self._path,f\"{key}.json\")\n",
    "        if os.path.isfile(path):\n",
    "            try:\n",
    "                os.remove(path)\n",
    "                return 1\n",
    "            except:\n",
    "                return 2\n",
    "        return 0\n",
    "    \n",
    "    def deleteAll(self,)->int:\n",
    "        try:\n",
    "            os.system(f\"rm {self._path}/*.json\")\n",
    "            return 1\n",
    "        except:\n",
    "            return 0\n",
    "\n",
    "    def updateOne(self,key:str,update:dict):\n",
    "        pass\n",
    "\n",
    "    def fetchKeys(self,)->list:\n",
    "        return [i.split(\".json\")[0] for i in os.listdir(self._path) if i != 'primary_key']\n",
    "    \n",
    "    def fetchAll(self,start:int=0,end:int=-1)->list:\n",
    "        return [\n",
    "                loads(open(os.path.join(self._path,i)).read())\n",
    "                for i in os.listdir(self._path) \n",
    "                if i.endswith(\".json\")\n",
    "            ]\n",
    "\n",
    "    def fetchOne(self,key:str)->Record:\n",
    "        path = os.path.join(self._path,f\"{key}.json\")\n",
    "        try:\n",
    "            return Record(path=path,**loads(open(path,\"r\").read()))\n",
    "        except:\n",
    "            return Record()\n"
   ]
  },
  {
   "cell_type": "code",
   "execution_count": 242,
   "metadata": {},
   "outputs": [],
   "source": [
    "class Database(object):\n",
    "    def __init__(self,name:str,path:str,logger:logger.Logger=logger.Logger()):\n",
    "        self._name = name\n",
    "        self._path = os.path.join(path,name)\n",
    "        self._logger = logger\n",
    "        \n",
    "        for table in os.listdir(self._path):\n",
    "            if table not in query_keywords:\n",
    "                self.__dict__[table] = Table(table,os.path.join(self._path,table))\n",
    "        \n",
    "    def __repr__(self):\n",
    "        return f\"Database @ {self._path}\"\n",
    "    \n",
    "    def __getitem__(self,key)->Table:\n",
    "        return self.__dict__[key]\n",
    "\n",
    "\n",
    "    def listTables(self,):\n",
    "        col,_ = os.get_terminal_size()\n",
    "        print (col*'-')\n",
    "        print (f\"| Table{' '*12}| Path{' '*(col-26)}|\")\n",
    "        print (col*'-')\n",
    "        for i in self.__dict__:\n",
    "            if not i.startswith(\"_\"):\n",
    "                f = f\"| {i}{(17-len(i))*' '}| {self.__dict__[i]}\"\n",
    "                print (f+(' '*(col-1-len(f)))+'|')\n",
    "        print (col*'-')\n",
    "    \n",
    "    def createTable(self,name,primary_key):\n",
    "        path = os.path.join(self._path,name)\n",
    "        if os.path.isdir(path):\n",
    "            self._logger.warning(f\"Table {name} Already Exists.\")\n",
    "        else:\n",
    "            os.mkdir(path)\n",
    "            open(os.path.join(path,\"primary_key\"),\"w+\").write(primary_key)\n",
    "            self.__dict__[name] = Table(name,path)\n",
    "            self._logger.success(f\"Table {name} Created Succesfully.\")\n",
    "    \n",
    "    def deleteTable(self,name:str):\n",
    "        path = os.path.join(self._path,name)\n",
    "        if not os.path.isdir(path):\n",
    "            self._logger.error(f\"Table {name} Does Not Exist.\")\n",
    "        else:\n",
    "            rmtree(path)\n",
    "            del self.__dict__[name]\n",
    "            self._logger.success(f\"Table {name} Deleted Succesfully.\")\n",
    "    \n",
    "    def renameTable(self,old:str,new:str):\n",
    "        path = os.path.join(self._path,old)\n",
    "        if not os.path.isdir(path):\n",
    "            self._logger.error(f\"Table {old} Does Not Exist.\")\n",
    "        else:\n",
    "            path_ = os.path.join(self._path,new)\n",
    "            move(path,path_)\n",
    "            del self.__dict__[old]\n",
    "            self.__dict__[new] = Table(new,path_)\n",
    "            self._logger.success(f\"Table Renamed Succesfully {old} -> {new}.\")\n"
   ]
  },
  {
   "cell_type": "code",
   "execution_count": 243,
   "metadata": {},
   "outputs": [],
   "source": [
    "class Cursor(object):\n",
    "    \"\"\"\n",
    "    Cursor Class For JSONDB\n",
    "    \"\"\"\n",
    "    def __init__(self,path:str=\"./\",logger:logger.Logger=logger.Logger()):\n",
    "        self._path = path\n",
    "        self._db_path = os.path.join(self._path,\"db\")\n",
    "        self._logger = logger\n",
    "        \n",
    "        if not os.path.isdir(self._db_path):\n",
    "            os.mkdir(self._db_path)\n",
    "            \n",
    "        for db in os.listdir(self._db_path):\n",
    "            self.__dict__[db] = Database(db,self._db_path,logger=logger)\n",
    "            \n",
    "    def __getitem__(self,key)->Database:\n",
    "        return self.__dict__[key]\n",
    "\n",
    "    def __repr__(self)->str:\n",
    "        return f\"Connection @ {self._path}\"\n",
    "            \n",
    "    def createDB(self,name:str):\n",
    "        path = os.path.join(self._path,\"db\",name)\n",
    "        if not os.path.isdir(path):\n",
    "            os.mkdir(path)\n",
    "            self.__dict__[name] = Database(name,self._db_path)\n",
    "            self._logger.success(f\"Database {name} Created Succesfully.\")\n",
    "        else:\n",
    "            self._logger.error(f\"Database {name} Already Exists.\")\n",
    "\n",
    "    def listDB(self,):\n",
    "        col,_ = os.get_terminal_size()\n",
    "        print (col*'-')\n",
    "        print (f\"| Database{' '*9}| Path{' '*(col-26)}|\")\n",
    "        print (col*'-')\n",
    "        for i in self.__dict__:\n",
    "            if not i.startswith(\"_\"):\n",
    "                f = f\"| {i}{(17-len(i))*' '}| {self.__dict__[i]}\"\n",
    "                print (f+(' '*(col-1-len(f)))+'|')\n",
    "        print (col*'-')\n",
    "\n",
    "    def deleteDB(self,name:str):\n",
    "        path = os.path.join(self._path,\"db\",name)\n",
    "        if not os.path.isdir(path):\n",
    "            self._logger.error(f\"Database {name} Does Not Exist.\")\n",
    "        else:\n",
    "            rmtree(path)\n",
    "            del self.__dict__[name]\n",
    "            self._logger.success(f\"Database {name} Deleted Succesfully.\")\n",
    "\n",
    "\n",
    "def connect(path:str=\"./\")->Cursor:\n",
    "    path = os.path.abspath(path)\n",
    "    if not os.path.isdir(path):\n",
    "        os.mkdir(path=path)\n",
    "        open(os.path.join(path,\"config.json\"),\"w+\")\n",
    "    return Cursor(path=path)\n"
   ]
  },
  {
   "cell_type": "code",
   "execution_count": 244,
   "metadata": {},
   "outputs": [],
   "source": [
    "conn = connect(path=\"./test/db\")"
   ]
  },
  {
   "cell_type": "code",
   "execution_count": 245,
   "metadata": {},
   "outputs": [
    {
     "data": {
      "text/plain": [
       "Connection @ /home/codekage/workspace/transfer-pi-dev/jsondb/test/db"
      ]
     },
     "execution_count": 245,
     "metadata": {},
     "output_type": "execute_result"
    }
   ],
   "source": [
    "conn"
   ]
  },
  {
   "cell_type": "code",
   "execution_count": 246,
   "metadata": {},
   "outputs": [
    {
     "name": "stdout",
     "output_type": "stream",
     "text": [
      "\u001b[32m [SUC]\u001b[0m Database USERS Created Succesfully.                                                                                                                                                                                                          [ 2020-11-07 23:56:04 ]\n"
     ]
    }
   ],
   "source": [
    "conn.createDB(\"USERS\")"
   ]
  },
  {
   "cell_type": "code",
   "execution_count": 249,
   "metadata": {},
   "outputs": [
    {
     "name": "stdout",
     "output_type": "stream",
     "text": [
      "\u001b[32m [SUC]\u001b[0m Table user Created Succesfully.                                                                                                                                                                                                              [ 2020-11-07 23:56:30 ]\n"
     ]
    }
   ],
   "source": [
    "conn.USERS.createTable(\"user\",\"email\")"
   ]
  },
  {
   "cell_type": "code",
   "execution_count": 252,
   "metadata": {},
   "outputs": [
    {
     "data": {
      "text/plain": [
       "{'status': False, 'message': 'email Already Exists.'}"
      ]
     },
     "execution_count": 252,
     "metadata": {},
     "output_type": "execute_result"
    }
   ],
   "source": [
    "conn.USERS.user.insertOne(Record(\n",
    "    email=\"vptl185\",\n",
    "    val=\"test\"\n",
    "))"
   ]
  },
  {
   "cell_type": "code",
   "execution_count": 254,
   "metadata": {},
   "outputs": [],
   "source": [
    "users = conn.USERS.user"
   ]
  }
 ],
 "metadata": {
  "kernelspec": {
   "display_name": "Python 3",
   "language": "python",
   "name": "python3"
  },
  "language_info": {
   "codemirror_mode": {
    "name": "ipython",
    "version": 3
   },
   "file_extension": ".py",
   "mimetype": "text/x-python",
   "name": "python",
   "nbconvert_exporter": "python",
   "pygments_lexer": "ipython3",
   "version": "3.8.5"
  }
 },
 "nbformat": 4,
 "nbformat_minor": 4
}
